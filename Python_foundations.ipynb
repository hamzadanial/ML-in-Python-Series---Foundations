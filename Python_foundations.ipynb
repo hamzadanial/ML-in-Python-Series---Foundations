{
  "nbformat": 4,
  "nbformat_minor": 0,
  "metadata": {
    "colab": {
      "provenance": []
    },
    "kernelspec": {
      "name": "python3",
      "display_name": "Python 3"
    },
    "language_info": {
      "name": "python"
    }
  },
  "cells": [
    {
      "cell_type": "code",
      "execution_count": 10,
      "metadata": {
        "id": "H1RNVAIe7CMO",
        "colab": {
          "base_uri": "https://localhost:8080/"
        },
        "outputId": "97828430-af0a-4baa-e54f-b844b47d252e"
      },
      "outputs": [
        {
          "output_type": "stream",
          "name": "stdout",
          "text": [
            "You can find me online on sites like GitHub and Twitter.\n",
            "Huntingon,VT\n",
            "Nowell strite(that\"s me)\n",
            "If you don't find me online, you can find me outside the lab.\n"
          ]
        }
      ],
      "source": [
        "**This notebook covers essential python concepts for beginners in data science and machine learning.**\n",
        "**Topics include strings, numbers, booleans, lists, disctionaries, control flow, loops, functions, and classes with detailed explanations and code examples.**\n",
        "##This section shows how to create strings in Python.\n",
        "##You can use single ', double \" or triple ''' \"\"\" quotes for multi-line strings.\n",
        "##Strings are printed using print().\n",
        "\n",
        "\n",
        "# Basic string assignment\n",
        "name = \"Nowell strite(that\\\"s me)\"\n",
        "home = 'Huntingon,VT'\n",
        "\n",
        "# Multi-line string using triple quotes\n",
        "sites = '''You can find me online on sites like GitHub and Twitter.'''\n",
        "print(sites)\n",
        "print(home)\n",
        "print(name)\n",
        "\n",
        "# Another multi-line string\n",
        "bio = \"\"\"If you don't find me online, you can find me outside the lab.\"\"\"\n",
        "print(bio)\n"
      ]
    },
    {
      "cell_type": "markdown",
      "source": [
        "This block demonstrates integer and float conversions using int() and float()."
      ],
      "metadata": {
        "id": "29qwmPr8UGOW"
      }
    },
    {
      "cell_type": "code",
      "source": [
        "##This block demonstrates integer and float conversions using int() and float().\n",
        "# Integers (Whole numbers (positive, negative, or zero) without any decimal point.)\n",
        "year = 2024\n",
        "year = int(\"2024\")\n",
        "\n",
        "# Floating-point numbers\n",
        "pi = 3.14159265\n",
        "pi = float(\"3.14159265\")\n",
        "print(pi)\n"
      ],
      "metadata": {
        "colab": {
          "base_uri": "https://localhost:8080/"
        },
        "id": "Jvh3Eo2B7f2e",
        "outputId": "9eaaac23-3512-4d2c-a7d0-364af4125655"
      },
      "execution_count": 11,
      "outputs": [
        {
          "output_type": "stream",
          "name": "stdout",
          "text": [
            "3.14159265\n"
          ]
        }
      ]
    },
    {
      "cell_type": "code",
      "source": [
        "# None is used to indicate 'no value' or 'empty'\n",
        "optional_data = None\n"
      ],
      "metadata": {
        "id": "KUmXAllr7fzz"
      },
      "execution_count": 12,
      "outputs": []
    },
    {
      "cell_type": "code",
      "source": [
        "##Python lists are ordered, mutable collections. You can access them using indices or slices.\n",
        "\n",
        "# Creating a list (A list is an ordered collection of elements defined using square brackets [].)\n",
        "favourites = []\n",
        "favourites.extend([\"Python\", True])\n",
        "\n",
        "# Or directly\n",
        "favourites = [42, \"Python\", True]\n",
        "print(favourites)\n",
        "\n",
        "# Accessing list items\n",
        "numbers = [1, 2, 3, 4, 5]\n",
        "print(numbers[0])        # First item\n",
        "print(numbers[0:5])      # Full list\n",
        "print(numbers[2:])       # From index 2 to end\n",
        "print(numbers[:4])       # From start to index 3\n"
      ],
      "metadata": {
        "colab": {
          "base_uri": "https://localhost:8080/"
        },
        "id": "1lkZPZS57fxV",
        "outputId": "ebdbcc47-f168-452f-8101-66eb348ae1ca"
      },
      "execution_count": 13,
      "outputs": [
        {
          "output_type": "stream",
          "name": "stdout",
          "text": [
            "[42, 'Python', True]\n",
            "1\n",
            "[1, 2, 3, 4, 5]\n",
            "[3, 4, 5]\n",
            "[1, 2, 3, 4]\n"
          ]
        }
      ]
    },
    {
      "cell_type": "code",
      "source": [
        "##Dictionaries store data as key-value pairs. Keys must be unique and immutable.\n",
        "##A dictionary stores data in key-value pairs using curly braces {}.\n",
        "# Creating a dictionary and adding key-value pairs\n",
        "person = {}\n",
        "person['name'] = 'Nowell Strite'\n",
        "print(person)\n",
        "\n",
        "# Updating dictionary\n",
        "person.update({\n",
        "    'favourites': [42, 'food'],\n",
        "    'gender': 'male',\n",
        "})\n",
        "\n",
        "# Dictionary keys can be any immutable type\n",
        "person[42] = 'favourite number'\n",
        "person[(44.47, -73.21)] = 'coordinates'\n",
        "print(person[(44.47, -73.21)])\n"
      ],
      "metadata": {
        "id": "HAEf5Bdu_olZ",
        "colab": {
          "base_uri": "https://localhost:8080/"
        },
        "outputId": "5709e481-0890-47be-8d37-51e120528120"
      },
      "execution_count": 14,
      "outputs": [
        {
          "output_type": "stream",
          "name": "stdout",
          "text": [
            "{'name': 'Nowell Strite'}\n",
            "coordinates\n"
          ]
        }
      ]
    },
    {
      "cell_type": "code",
      "source": [
        "##Booleans represent True/False. Most non-empty values evaluate to True.\n",
        "##Booleans represent True or False values used in logical operations and conditions.\n",
        "# Boolean values\n",
        "is_python = bool(\"any object\")  # True\n",
        "\n",
        "# Falsy values in Python\n",
        "falsy = False or 0 or {} or [] or None\n",
        "\n",
        "# Truthy values\n",
        "truthy = True and 1 and \"Text\" and {'a': 'b'} and ['c', 'd']\n",
        "\n"
      ],
      "metadata": {
        "id": "-wH7WQ_F_oZ6"
      },
      "execution_count": 15,
      "outputs": []
    },
    {
      "cell_type": "code",
      "source": [
        "##String formatting with % and .join() is useful for combining text and values.\n",
        "##A method to insert variables into strings using %, .format(), or f-strings.\n",
        "animals = \"cats  \" + \"Dogs  \"\n",
        "animals += \"Rabbits\"\n",
        "print(animals)\n",
        "\n",
        "fruit = ', '.join(['Apple', 'Banana', 'Orange'])\n",
        "print(fruit)\n",
        "\n",
        "date = '%s %d %d' % ('Sept', 4, 2010)\n",
        "print(date)\n",
        "\n",
        "name = '%(last)s %(first)s' % {'first': 'Anwesha', 'last': 'Ash'}\n",
        "print(name)\n"
      ],
      "metadata": {
        "colab": {
          "base_uri": "https://localhost:8080/"
        },
        "id": "i2ETprtLB1Wk",
        "outputId": "4ea78b8a-db82-48eb-90df-189fed955931"
      },
      "execution_count": 16,
      "outputs": [
        {
          "output_type": "stream",
          "name": "stdout",
          "text": [
            "cats  Dogs  Rabbits\n",
            "Apple, Banana, Orange\n",
            "Sept 4 2010\n",
            "Ash Anwesha\n"
          ]
        }
      ]
    },
    {
      "cell_type": "code",
      "source": [
        "### Arithmetic and Logical operations\n",
        "##Arithmetic includes math operations (+, -, *, /) while logical includes and, or, not.\n",
        "a = 10\n",
        "a += 1\n",
        "print(a)\n",
        "\n",
        "a -= 1\n",
        "print(a)\n",
        "\n",
        "b = a + 1\n",
        "c = a - 1\n",
        "print(b, c)\n",
        "\n",
        "# Logical operations\n",
        "print(a and b)\n",
        "print(a or b)\n",
        "print(a and not (b or c))\n"
      ],
      "metadata": {
        "colab": {
          "base_uri": "https://localhost:8080/"
        },
        "id": "J1TM2OMHB1MP",
        "outputId": "5f8a98c3-ce8c-4c4b-c9d8-693e39a5da71"
      },
      "execution_count": 17,
      "outputs": [
        {
          "output_type": "stream",
          "name": "stdout",
          "text": [
            "11\n",
            "10\n",
            "11 9\n",
            "11\n",
            "10\n",
            "False\n"
          ]
        }
      ]
    },
    {
      "cell_type": "code",
      "source": [
        "###Section 9: Comparison Operators\n",
        "##Checks if two variables point to the same object in memory using is and is not.\n",
        "\n",
        "# Identity\n",
        "print(1 is 1)          # True\n",
        "print(1 is not '1')    # True\n",
        "\n",
        "# Value comparisons\n",
        "print(a > b, a < b, a >= b, a <= b, a == b, a != b)\n",
        "\n"
      ],
      "metadata": {
        "id": "DaCoYVvE_oXN",
        "colab": {
          "base_uri": "https://localhost:8080/"
        },
        "outputId": "4bf9269b-98db-486b-ca2a-1c58b71b0667"
      },
      "execution_count": 18,
      "outputs": [
        {
          "output_type": "stream",
          "name": "stdout",
          "text": [
            "True\n",
            "True\n",
            "False True False True False True\n"
          ]
        },
        {
          "output_type": "stream",
          "name": "stderr",
          "text": [
            "<>:4: SyntaxWarning: \"is\" with a literal. Did you mean \"==\"?\n",
            "<>:5: SyntaxWarning: \"is not\" with a literal. Did you mean \"!=\"?\n",
            "<>:4: SyntaxWarning: \"is\" with a literal. Did you mean \"==\"?\n",
            "<>:5: SyntaxWarning: \"is not\" with a literal. Did you mean \"!=\"?\n",
            "<ipython-input-18-d6e496f15668>:4: SyntaxWarning: \"is\" with a literal. Did you mean \"==\"?\n",
            "  print(1 is 1)          # True\n",
            "<ipython-input-18-d6e496f15668>:5: SyntaxWarning: \"is not\" with a literal. Did you mean \"!=\"?\n",
            "  print(1 is not '1')    # True\n"
          ]
        }
      ]
    },
    {
      "cell_type": "code",
      "source": [
        "### Control Flow-if/elif/else\n",
        "##Uses if, elif, else to make decisions based on conditions in a program.\n",
        "grade = 75\n",
        "\n",
        "if grade >= 90:\n",
        "    if grade == 100:\n",
        "        print('A+')\n",
        "    else:\n",
        "        print('A')\n",
        "elif grade >= 80:\n",
        "    print('B')\n",
        "elif grade >= 70:\n",
        "    print('C+')\n",
        "else:\n",
        "    print('F')\n"
      ],
      "metadata": {
        "colab": {
          "base_uri": "https://localhost:8080/"
        },
        "id": "i9D2DKtw_oUp",
        "outputId": "0f5eeb48-cab9-4012-a4aa-e625a0a7b597"
      },
      "execution_count": 19,
      "outputs": [
        {
          "output_type": "stream",
          "name": "stdout",
          "text": [
            "C+\n"
          ]
        }
      ]
    },
    {
      "cell_type": "code",
      "source": [
        "### Loops\n",
        "##A for loop repeats a block of code for each item in a sequence like list or range.\n",
        "# For loop using range\n",
        "for x in range(10):\n",
        "    print(x)\n",
        "\n",
        "# Looping through a list\n",
        "fruits = ['Apple', 'Orange', 'Banana', 'Strawberry']\n",
        "for fruit in fruits:\n",
        "    print(fruit)\n",
        "\n",
        "# Loop through a dictionary\n",
        "states = {'VT': 'Vermont', 'ME': 'Maine'}\n",
        "for key, value in states.items():\n",
        "    print(f'{key}: {value}')\n",
        "\n",
        "\n"
      ],
      "metadata": {
        "id": "us_xpeAA_oR1",
        "colab": {
          "base_uri": "https://localhost:8080/"
        },
        "outputId": "b07dcc2f-640d-4332-90d4-50efd09db4fd"
      },
      "execution_count": 20,
      "outputs": [
        {
          "output_type": "stream",
          "name": "stdout",
          "text": [
            "0\n",
            "1\n",
            "2\n",
            "3\n",
            "4\n",
            "5\n",
            "6\n",
            "7\n",
            "8\n",
            "9\n",
            "Apple\n",
            "Orange\n",
            "Banana\n",
            "Strawberry\n",
            "VT: Vermont\n",
            "ME: Maine\n"
          ]
        }
      ]
    },
    {
      "cell_type": "code",
      "source": [
        "### While loop\n",
        "##A loop that runs repeatedly as long as a specified condition is True.\n",
        "x = 0\n",
        "while x <= 100:\n",
        "    print(x)\n",
        "    x += 25\n"
      ],
      "metadata": {
        "colab": {
          "base_uri": "https://localhost:8080/"
        },
        "id": "jGoUi7aa6Y17",
        "outputId": "ef8e4ffa-7cb7-40d0-86d9-148d7705701f"
      },
      "execution_count": 21,
      "outputs": [
        {
          "output_type": "stream",
          "name": "stdout",
          "text": [
            "0\n",
            "25\n",
            "50\n",
            "75\n",
            "100\n"
          ]
        }
      ]
    },
    {
      "cell_type": "code",
      "source": [
        "### List comprehension\n",
        "##A concise way to create lists using a single line of code with a loop inside brackets.\n",
        "odds = [x for x in range(50) if x % 2 != 0]\n",
        "\n",
        "even = []\n",
        "for x in range(50):\n",
        "    if x % 2 == 0:\n",
        "        even.append(x)\n",
        "\n",
        "print(even)\n"
      ],
      "metadata": {
        "colab": {
          "base_uri": "https://localhost:8080/"
        },
        "id": "J2EPgZ7d6Yzl",
        "outputId": "504a38bb-bbd7-43dc-c903-0d296aa6efee"
      },
      "execution_count": 22,
      "outputs": [
        {
          "output_type": "stream",
          "name": "stdout",
          "text": [
            "[0, 2, 4, 6, 8, 10, 12, 14, 16, 18, 20, 22, 24, 26, 28, 30, 32, 34, 36, 38, 40, 42, 44, 46, 48]\n"
          ]
        }
      ]
    },
    {
      "cell_type": "code",
      "source": [
        "#### Functions\n",
        "\n",
        "# Simple function\n",
        "def my_function():\n",
        "    \"\"\"Function Documentation\"\"\"\n",
        "    print(\"Hello World\")\n",
        "\n",
        "my_function()\n",
        "\n",
        "# Function with parameters\n",
        "def add(x, y):\n",
        "    return x + y\n",
        "\n",
        "print(add(5, 3))\n",
        "\n",
        "# Arbitrary arguments\n",
        "def some_method(*args, **kwargs):\n",
        "    for arg in args:\n",
        "        print(arg)\n",
        "    for key, value in kwargs.items():\n",
        "        print(f\"{key}: {value}\")\n",
        "\n",
        "some_method(1, 2, 3, name='Numbers')\n",
        "\n"
      ],
      "metadata": {
        "colab": {
          "base_uri": "https://localhost:8080/"
        },
        "id": "XiorBvbA6YxI",
        "outputId": "892e1582-b53d-4207-b608-0d8560abfc25"
      },
      "execution_count": 23,
      "outputs": [
        {
          "output_type": "stream",
          "name": "stdout",
          "text": [
            "Hello World\n",
            "8\n",
            "1\n",
            "2\n",
            "3\n",
            "name: Numbers\n"
          ]
        }
      ]
    },
    {
      "cell_type": "code",
      "source": [
        "### Fibonacci Function\n",
        "##A function that returns a sequence where each number is the sum of the two before it.\n",
        "def fib(n):\n",
        "    \"\"\"Return Fibonacci series up to n\"\"\"\n",
        "    results = []\n",
        "    a, b = 0, 1\n",
        "    while a < n:\n",
        "        results.append(a)\n",
        "        a, b = b, a + b\n",
        "    return results\n",
        "\n",
        "print(fib(10))\n",
        "\n"
      ],
      "metadata": {
        "colab": {
          "base_uri": "https://localhost:8080/"
        },
        "id": "farF52MQ6Yu0",
        "outputId": "41a2a84e-0a71-4561-b691-95ceb5951250"
      },
      "execution_count": 24,
      "outputs": [
        {
          "output_type": "stream",
          "name": "stdout",
          "text": [
            "[0, 1, 1, 2, 3, 5, 8]\n"
          ]
        }
      ]
    },
    {
      "cell_type": "code",
      "source": [
        "### Classes\n",
        "##Classes define custom data types and encapsulate data with functions (methods) in OOP (Object oriented programming).\n",
        "class User(object):\n",
        "    is_staff = False\n",
        "\n",
        "    def __init__(self, name='Anonymous'):\n",
        "        self.name = name\n",
        "\n",
        "    def is_authorized(self):\n",
        "        return self.is_staff\n",
        "\n",
        "user = User(\"Hamza\")\n",
        "print(user.name)\n",
        "print(user.is_authorized())\n"
      ],
      "metadata": {
        "colab": {
          "base_uri": "https://localhost:8080/"
        },
        "id": "a-QMxQjX6Yse",
        "outputId": "5ed1d4a6-733b-493b-f263-456bcf08cb6a"
      },
      "execution_count": 25,
      "outputs": [
        {
          "output_type": "stream",
          "name": "stdout",
          "text": [
            "Hamza\n",
            "False\n"
          ]
        }
      ]
    }
  ]
}
